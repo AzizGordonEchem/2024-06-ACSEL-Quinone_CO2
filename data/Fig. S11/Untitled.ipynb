{
 "cells": [
  {
   "cell_type": "code",
   "execution_count": 1,
   "id": "76a3e334",
   "metadata": {},
   "outputs": [
    {
     "ename": "ModuleNotFoundError",
     "evalue": "No module named 'matplotlib'",
     "output_type": "error",
     "traceback": [
      "\u001b[1;31m---------------------------------------------------------------------------\u001b[0m",
      "\u001b[1;31mModuleNotFoundError\u001b[0m                       Traceback (most recent call last)",
      "Input \u001b[1;32mIn [1]\u001b[0m, in \u001b[0;36m<cell line: 10>\u001b[1;34m()\u001b[0m\n\u001b[0;32m      1\u001b[0m \u001b[38;5;66;03m### INTRODUCTION                       ###\u001b[39;00m\n\u001b[0;32m      2\u001b[0m \u001b[38;5;66;03m### AUTHOR: Martin Jin                 ###\u001b[39;00m\n\u001b[0;32m      3\u001b[0m \u001b[38;5;66;03m### Date: 20211218                     ###\u001b[39;00m\n\u001b[1;32m   (...)\u001b[0m\n\u001b[0;32m      6\u001b[0m \u001b[38;5;66;03m#enter folder/file path to start\u001b[39;00m\n\u001b[0;32m      7\u001b[0m \u001b[38;5;66;03m#for 20211212 data\u001b[39;00m\n\u001b[1;32m---> 10\u001b[0m \u001b[38;5;28;01mimport\u001b[39;00m \u001b[38;5;21;01mmatplotlib\u001b[39;00m \u001b[38;5;28;01mas\u001b[39;00m \u001b[38;5;21;01mmpl\u001b[39;00m\n\u001b[0;32m     11\u001b[0m \u001b[38;5;28;01mimport\u001b[39;00m \u001b[38;5;21;01mpandas\u001b[39;00m \u001b[38;5;28;01mas\u001b[39;00m \u001b[38;5;21;01mpd\u001b[39;00m\n\u001b[0;32m     12\u001b[0m \u001b[38;5;28;01mimport\u001b[39;00m \u001b[38;5;21;01mnumpy\u001b[39;00m \u001b[38;5;28;01mas\u001b[39;00m \u001b[38;5;21;01mnp\u001b[39;00m\n",
      "\u001b[1;31mModuleNotFoundError\u001b[0m: No module named 'matplotlib'"
     ]
    }
   ],
   "source": [
    "### INTRODUCTION                       ###\n",
    "### AUTHOR: Martin Jin                 ###\n",
    "### Date: 20211218                     ###\n",
    "\n",
    "#A Method to summarize electrochemistry, CO2 and flow meter data.\n",
    "#enter folder/file path to start\n",
    "#for 20211212 data\n",
    "\n",
    "\n",
    "import matplotlib as mpl\n",
    "import pandas as pd\n",
    "import numpy as np\n",
    "import matplotlib.pyplot as plt\n",
    "import datetime\n",
    "import csv\n",
    "import sys\n",
    "import glob\n",
    "from matplotlib.ticker import MultipleLocator\n",
    "from scipy.fft import fft,ifft\n",
    "import pickle\n",
    "from scipy.signal import lfilter,savgol_filter\n",
    "from scipy.optimize import fsolve,root_scalar,ridder,anderson,newton_krylov\n",
    "import os\n",
    "#set minor ticks\n",
    "ml = MultipleLocator(5)\n",
    "#A Method to summarize electrochemistry, CO2 and flow meter data.\n",
    "\n",
    "#set minor ticks\n",
    "ml = MultipleLocator(5)\n",
    "#A Method to summarize electrochemistry, CO2 and flow meter data.\n",
    "\n",
    "#set minor ticks\n",
    "mpl.rcParams['axes.linewidth'] = 2 #set the value globally\n",
    "\n",
    "#set minor ticks\n",
    "ml = MultipleLocator(5)\n",
    "#A Method to summarize electrochemistry, CO2 and flow meter data.\n",
    "\n",
    "SMALL_SIZE = 12\n",
    "MEDIUM_SIZE = 15\n",
    "BIGGER_SIZE = 18\n",
    "\n",
    "plt.rc('font', size=MEDIUM_SIZE,)          # controls default text sizes\n",
    "plt.rc('axes', titlesize=MEDIUM_SIZE)     # fontsize of the axes title\n",
    "plt.rc('axes', labelsize=MEDIUM_SIZE)    # fontsize of the x and y labels\n",
    "plt.rc('xtick', labelsize=MEDIUM_SIZE)    # fontsize of the tick labels\n",
    "plt.rc('ytick', labelsize=MEDIUM_SIZE)    # fontsize of the tick labels\n",
    "plt.rc('legend', fontsize=SMALL_SIZE)    # legend fontsize\n",
    "plt.rc('figure', titlesize=BIGGER_SIZE)  # fontsize of the figure title\n",
    "\n",
    "mpl.rcParams['font.sans-serif'] = \"Arial\"\n",
    "mpl.rcParams['font.family'] = \"sans-serif\"\n"
   ]
  },
  {
   "cell_type": "code",
   "execution_count": null,
   "id": "c8d7de60",
   "metadata": {},
   "outputs": [],
   "source": []
  }
 ],
 "metadata": {
  "kernelspec": {
   "display_name": "Python 3 (ipykernel)",
   "language": "python",
   "name": "python3"
  },
  "language_info": {
   "codemirror_mode": {
    "name": "ipython",
    "version": 3
   },
   "file_extension": ".py",
   "mimetype": "text/x-python",
   "name": "python",
   "nbconvert_exporter": "python",
   "pygments_lexer": "ipython3",
   "version": "3.10.2"
  }
 },
 "nbformat": 4,
 "nbformat_minor": 5
}
